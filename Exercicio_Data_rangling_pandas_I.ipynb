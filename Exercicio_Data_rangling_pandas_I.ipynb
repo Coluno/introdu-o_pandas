{
  "nbformat": 4,
  "nbformat_minor": 0,
  "metadata": {
    "colab": {
      "provenance": [],
      "authorship_tag": "ABX9TyMoY7JXd+VomsbhOa/AX1Sr",
      "include_colab_link": true
    },
    "kernelspec": {
      "name": "python3",
      "display_name": "Python 3"
    },
    "language_info": {
      "name": "python"
    }
  },
  "cells": [
    {
      "cell_type": "markdown",
      "metadata": {
        "id": "view-in-github",
        "colab_type": "text"
      },
      "source": [
        "<a href=\"https://colab.research.google.com/github/Coluno/introdu-o_pandas/blob/main/Exercicio_Data_rangling_pandas_I.ipynb\" target=\"_parent\"><img src=\"https://colab.research.google.com/assets/colab-badge.svg\" alt=\"Open In Colab\"/></a>"
      ]
    },
    {
      "cell_type": "markdown",
      "source": [
        "# **PARTE 1**"
      ],
      "metadata": {
        "id": "LJYTJatu9gIC"
      }
    },
    {
      "cell_type": "markdown",
      "source": [
        "Irei utilizar o pacote Python `beautifulsoup4` para extrair todas as 100 empresas do arquivo `fortune.html`. Salvar os dados extraidos no arquivo `fortune.csv` separado por `;`."
      ],
      "metadata": {
        "id": "07ZxtcyN8t9f"
      }
    },
    {
      "cell_type": "markdown",
      "source": [
        "# Primeiro iremos carregar o conteudo"
      ],
      "metadata": {
        "id": "MAfDVcTKCSuE"
      }
    },
    {
      "cell_type": "code",
      "source": [
        "from bs4 import BeautifulSoup\n",
        "import csv\n",
        "\n",
        "#carregando conteudo\n",
        "with open ('fortune.html', 'r',encoding= 'utf-8') as arquivo:\n",
        "  conteudo = arquivo.read()\n",
        "\n",
        "#criando um objeto BeautfulSoup\n",
        "soup = BeautifulSoup(conteudo, 'html.parser')\n",
        "\n",
        "# Obtendo as linhas da tabela\n",
        "tabela = soup.find('div', {'class': 'rt-table'})\n",
        "linhas = tabela.find('div', {'class': 'rt-tbody'})"
      ],
      "metadata": {
        "id": "WtL-eFJm9fRC"
      },
      "execution_count": 3,
      "outputs": []
    },
    {
      "cell_type": "markdown",
      "source": [
        "# **Criando um arquivo CSV**"
      ],
      "metadata": {
        "id": "TpiExhJcFfIt"
      }
    },
    {
      "cell_type": "code",
      "source": [
        "# Construindo o cabeçalho\n",
        "header = ['rank','name','revenues','revenues-percent-change','profits','profits-percent-change','assets','market-value','employees']\n",
        "\n",
        "with open('fortune.csv','w',newline='', encoding='utf-8') as csvfile:\n",
        "  csvwriter = csv.writer(csvfile, delimiter=';')\n",
        "  csvwriter.writerow(header)\n",
        "  for linha in linhas:\n",
        "    #Obtendo os dados de cada célula na linha\n",
        "    colunas = linha.find_all('div',{'role':'gridcell'})\n",
        "    data = [col.get_text(strip=True) for col in colunas]\n",
        "    csvwriter.writerow(data)"
      ],
      "metadata": {
        "id": "eB1Y1T48Fe03"
      },
      "execution_count": 4,
      "outputs": []
    },
    {
      "cell_type": "markdown",
      "source": [
        "# **PARTE 2**"
      ],
      "metadata": {
        "id": "iHitlHBQI8vU"
      }
    },
    {
      "cell_type": "markdown",
      "source": [
        "**2.1** Criando o DataFrame Pandas na variável `fortune_df` através da leitura do arquivo `fortune.csv`"
      ],
      "metadata": {
        "id": "shwGNxkDJKm6"
      }
    },
    {
      "cell_type": "code",
      "source": [
        "import pandas as pd\n",
        "\n",
        "# Lendo o arquivo CSV e criando o DataFrame\n",
        "fortune_df = pd.read_csv('fortune.csv', delimiter=';')\n",
        "\n",
        "# Exibindo as primeiras linhas do DataFrame (opcional)\n",
        "print(fortune_df.head())"
      ],
      "metadata": {
        "colab": {
          "base_uri": "https://localhost:8080/"
        },
        "id": "Z2MnDYxuAkrl",
        "outputId": "86664c06-8fcf-4abf-c120-d48800e2e086"
      },
      "execution_count": 5,
      "outputs": [
        {
          "output_type": "stream",
          "name": "stdout",
          "text": [
            "   rank                name  revenues revenues-percent-change  profits  \\\n",
            "0     1             Walmart  $559,151                    6.7%  $13,510   \n",
            "1     2              Amazon  $386,064                   37.6%  $21,331   \n",
            "2     3               Apple  $274,515                    5.5%  $57,411   \n",
            "3     4          CVS Health  $268,706                    4.6%   $7,179   \n",
            "4     5  UnitedHealth Group  $257,141                    6.2%  $15,403   \n",
            "\n",
            "  profits-percent-change    assets  market-value  employees  \n",
            "0                  -9.2%  $252,496    $382,642.8  2,300,000  \n",
            "1                  84.1%  $321,195  $1,558,069.6  1,298,000  \n",
            "2                   3.9%  $323,888  $2,050,665.9    147,000  \n",
            "3                   8.2%  $230,715     $98,653.2    256,500  \n",
            "4                  11.3%  $197,289      $351,725    330,000  \n"
          ]
        }
      ]
    },
    {
      "cell_type": "markdown",
      "source": [
        "**2.2.** Explorando o DataFrame"
      ],
      "metadata": {
        "id": "iMLU5rYEM0HS"
      }
    },
    {
      "cell_type": "markdown",
      "source": [
        " - Liste as 10 primeiras linhas do dataframe:"
      ],
      "metadata": {
        "id": "5_vTTS0GM-rw"
      }
    },
    {
      "cell_type": "code",
      "source": [
        "print(fortune_df.head(10))"
      ],
      "metadata": {
        "colab": {
          "base_uri": "https://localhost:8080/"
        },
        "id": "kOqPGv4qNCDa",
        "outputId": "8116a4af-ee60-436b-ce35-67969e40e2c6"
      },
      "execution_count": null,
      "outputs": [
        {
          "output_type": "stream",
          "name": "stdout",
          "text": [
            "   rank                name    revenues revenues-percent-change    profits  \\\n",
            "0     1             Walmart    $559,151                    6.7%    $13,510   \n",
            "1     2              Amazon    $386,064                   37.6%    $21,331   \n",
            "2     3               Apple    $274,515                    5.5%    $57,411   \n",
            "3     4          CVS Health    $268,706                    4.6%     $7,179   \n",
            "4     5  UnitedHealth Group    $257,141                    6.2%    $15,403   \n",
            "5     6  Berkshire Hathaway    $245,510                   -3.6%    $42,521   \n",
            "6     7            McKesson    $231,051                    7.8%       $900   \n",
            "7     8   AmerisourceBergen  $189,893.9                    5.7%  $-3,408.7   \n",
            "8     9            Alphabet    $182,527                   12.8%    $40,269   \n",
            "9    10         Exxon Mobil    $181,502                  -31.5%   $-22,440   \n",
            "\n",
            "  profits-percent-change     assets  market-value  employees  \n",
            "0                  -9.2%   $252,496    $382,642.8  2,300,000  \n",
            "1                  84.1%   $321,195  $1,558,069.6  1,298,000  \n",
            "2                   3.9%   $323,888  $2,050,665.9    147,000  \n",
            "3                   8.2%   $230,715     $98,653.2    256,500  \n",
            "4                  11.3%   $197,289      $351,725    330,000  \n",
            "5                 -47.8%   $873,729      $587,823    360,000  \n",
            "6                2547.1%    $61,247       $31,044     70,000  \n",
            "7                -498.5%  $44,274.8     $24,169.7     21,500  \n",
            "8                  17.3%   $319,616  $1,392,561.8    135,301  \n",
            "9                -256.5%   $332,750    $236,355.4     72,000  \n"
          ]
        }
      ]
    },
    {
      "cell_type": "markdown",
      "source": [
        " - Liste os tipos de dados armazenados na coluna do dataframe:"
      ],
      "metadata": {
        "id": "xdla_hfKNdTm"
      }
    },
    {
      "cell_type": "code",
      "source": [
        "print(fortune_df.dtypes)"
      ],
      "metadata": {
        "colab": {
          "base_uri": "https://localhost:8080/"
        },
        "id": "pVts2b48NiD0",
        "outputId": "cb56cdd1-755b-45e1-8c28-7b0a2d1abd4b"
      },
      "execution_count": null,
      "outputs": [
        {
          "output_type": "stream",
          "name": "stdout",
          "text": [
            "rank                        int64\n",
            "name                       object\n",
            "revenues                   object\n",
            "revenues-percent-change    object\n",
            "profits                    object\n",
            "profits-percent-change     object\n",
            "assets                     object\n",
            "market-value               object\n",
            "employees                  object\n",
            "dtype: object\n"
          ]
        }
      ]
    },
    {
      "cell_type": "markdown",
      "source": [
        " - Liste o numero de linhas e colunas do dataframe:"
      ],
      "metadata": {
        "id": "ZMqkbZMqOFcR"
      }
    },
    {
      "cell_type": "code",
      "source": [
        "fortune_df.shape"
      ],
      "metadata": {
        "colab": {
          "base_uri": "https://localhost:8080/"
        },
        "id": "bix7kW7sOGGS",
        "outputId": "06bd0ed5-8165-4ab0-9742-fb750fc35a66"
      },
      "execution_count": null,
      "outputs": [
        {
          "output_type": "execute_result",
          "data": {
            "text/plain": [
              "(100, 9)"
            ]
          },
          "metadata": {},
          "execution_count": 9
        }
      ]
    },
    {
      "cell_type": "markdown",
      "source": [
        "# **2.3**. Limpando o DataFrame"
      ],
      "metadata": {
        "id": "WlCgheu1O5jN"
      }
    },
    {
      "cell_type": "markdown",
      "source": [
        "Grande parte das colunas numéricas (exceto a coluna `ranking` e `employees`) possuem o caracter `$` ou `%` que as classificam com o tipo `object` (ou `str` do Python) ao invés do tipo correto como `int` ou `float`. Removendo os caracteres das linhas das colunas numéricas."
      ],
      "metadata": {
        "id": "ycnDFeyEPMxP"
      }
    },
    {
      "cell_type": "code",
      "source": [
        "# Lista de colunas numéricas que precisam ter os caracteres removidos\n",
        "colunas_numericas = ['name','revenues','revenues-percent-change','profits','profits-percent-change','assets','market-value']\n",
        "\n",
        "# Aplicando a transformação usando apply e  lambda\n",
        "for coluna in colunas_numericas:\n",
        "    fortune_df[coluna] = fortune_df[coluna].apply(lambda item: item.strip('$%'))\n",
        "\n",
        "# Exibindo as 10 primeiras linhas do DataFrame atualizado\n",
        "print(fortune_df.head(10))"
      ],
      "metadata": {
        "colab": {
          "base_uri": "https://localhost:8080/"
        },
        "id": "DvbqIUXyTIlH",
        "outputId": "2f11b624-f6d5-4de6-fef8-32dc271c9555"
      },
      "execution_count": 6,
      "outputs": [
        {
          "output_type": "stream",
          "name": "stdout",
          "text": [
            "   rank                name   revenues revenues-percent-change   profits  \\\n",
            "0     1             Walmart    559,151                     6.7    13,510   \n",
            "1     2              Amazon    386,064                    37.6    21,331   \n",
            "2     3               Apple    274,515                     5.5    57,411   \n",
            "3     4          CVS Health    268,706                     4.6     7,179   \n",
            "4     5  UnitedHealth Group    257,141                     6.2    15,403   \n",
            "5     6  Berkshire Hathaway    245,510                    -3.6    42,521   \n",
            "6     7            McKesson    231,051                     7.8       900   \n",
            "7     8   AmerisourceBergen  189,893.9                     5.7  -3,408.7   \n",
            "8     9            Alphabet    182,527                    12.8    40,269   \n",
            "9    10         Exxon Mobil    181,502                   -31.5   -22,440   \n",
            "\n",
            "  profits-percent-change    assets market-value  employees  \n",
            "0                   -9.2   252,496    382,642.8  2,300,000  \n",
            "1                   84.1   321,195  1,558,069.6  1,298,000  \n",
            "2                    3.9   323,888  2,050,665.9    147,000  \n",
            "3                    8.2   230,715     98,653.2    256,500  \n",
            "4                   11.3   197,289      351,725    330,000  \n",
            "5                  -47.8   873,729      587,823    360,000  \n",
            "6                 2547.1    61,247       31,044     70,000  \n",
            "7                 -498.5  44,274.8     24,169.7     21,500  \n",
            "8                   17.3   319,616  1,392,561.8    135,301  \n",
            "9                 -256.5   332,750    236,355.4     72,000  \n"
          ]
        }
      ]
    },
    {
      "cell_type": "markdown",
      "source": [
        "### **2.4. Salvando o DataFrame**"
      ],
      "metadata": {
        "id": "gp-hcCOoUFQQ"
      }
    },
    {
      "cell_type": "markdown",
      "source": [
        "Utilizei o método `to_csv` para salvar o dataframe `fortune_df` no arquivo `fortune-limpo.csv`.\n"
      ],
      "metadata": {
        "id": "kSGNHn-kUV8V"
      }
    },
    {
      "cell_type": "code",
      "source": [
        "# Salvando o DataFrame em um arquivo CSV\n",
        "fortune_df.to_csv('fortune-limpo.csv', index=False, sep=';')"
      ],
      "metadata": {
        "id": "Q_fNJOolUE8p"
      },
      "execution_count": 7,
      "outputs": []
    },
    {
      "cell_type": "markdown",
      "source": [
        "\n",
        "\n",
        "---\n",
        "\n"
      ],
      "metadata": {
        "id": "RxrX3buJNZbR"
      }
    },
    {
      "cell_type": "markdown",
      "source": [
        "\n",
        "\n",
        "---\n",
        "\n"
      ],
      "metadata": {
        "id": "u7VjV9X5E8MT"
      }
    },
    {
      "cell_type": "markdown",
      "source": [
        "# Explicação do codigo para mim mesmo e para qualquer outra pessoa lendo isso PARTE 1✊\n"
      ],
      "metadata": {
        "id": "q44Wj7pcD01B"
      }
    },
    {
      "cell_type": "markdown",
      "source": [
        "Imagine que você tem uma página da web com uma tabela de informações sobre empresas. Queremos usar um programa em Python para pegar essas informações e armazená-las em um formato mais fácil de trabalhar, como um arquivo CSV.\n",
        "para isso vc precisa:\n",
        "1. **Importa as Bibliotecas:**\n",
        "```python\n",
        "   from bs4 import BeautifulSoup\n",
        "   import csv\n",
        "\n",
        "2. **Ler o Conteúdo HTML:**\n",
        "```python\n",
        "   with open('fortune.html', 'r', encoding='utf-8') as file:\n",
        "       content = file.read()\n",
        "\n",
        "3. **Criar um Objeto BeautifulSoup:**\n",
        "```python\n",
        "   soup = BeautifulSoup(content, 'html.parser')\n",
        "\n",
        "**obs**: Criamos um objeto chamado `soup` usando BeautifulSoup. Isso nos ajuda a navegar e extrair informações do HTML de maneira fácil.\n",
        "\n",
        "4. **Encontrar Elementos na Página:**\n",
        "```python\n",
        "tabela = soup.find('div', {'class': 'rt-table'})\n",
        "linhas = tabela.find('div', {'class': 'rt-tbody'})\n",
        "\n",
        "**obs**:Aqui, procuramos por elementos `<div>` com classes específicas que indicam onde estão as informações da tabela. Isso é como dizer: \"Vá até o pedaço da página que contém a tabela e depois encontre todas as linhas nessa tabela.\"\n",
        "\n",
        "5. **Escrevendo em um Arquivo CSV:**\n",
        "   ```python\n",
        "   header = ['rank', 'name', 'revenues', 'revenues-percent-change', 'profits', 'profits-percent-change', 'assets', 'market-value', 'employees']\n",
        "   with open('fortune.csv', 'w', newline='', encoding='utf-8') as csvfile:\n",
        "       csvwriter = csv.writer(csvfile, delimiter=';')\n",
        "       csvwriter.writerow(header)\n",
        "       for linha in linhas:\n",
        "           colunas = linha.find_all('div', {'role': 'gridcell'})\n",
        "           data = [col.get_text(strip=True) for col in colunas]\n",
        "           csvwriter.writerow(data)\n",
        "   ```\n",
        "**obs:** Agora, escrevemos essas informações em um arquivo CSV chamado 'fortune.csv'. O `header` é a primeira linha, e depois adicionamos cada linha da tabela.\n"
      ],
      "metadata": {
        "id": "ep14dRuGCiZm"
      }
    },
    {
      "cell_type": "markdown",
      "source": [
        "\n",
        "\n",
        "---\n",
        "\n"
      ],
      "metadata": {
        "id": "SgdudADSE-5c"
      }
    },
    {
      "cell_type": "markdown",
      "source": [
        "\n",
        "\n",
        "---\n",
        "\n"
      ],
      "metadata": {
        "id": "Vf0g2hM_U4dP"
      }
    }
  ]
}